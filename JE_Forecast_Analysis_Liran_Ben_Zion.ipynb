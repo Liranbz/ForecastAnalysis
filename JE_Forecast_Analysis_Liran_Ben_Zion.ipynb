{
  "nbformat": 4,
  "nbformat_minor": 0,
  "metadata": {
    "kernelspec": {
      "name": "python3",
      "display_name": "Python 3"
    },
    "language_info": {
      "codemirror_mode": {
        "name": "ipython",
        "version": 3
      },
      "file_extension": ".py",
      "mimetype": "text/x-python",
      "name": "python",
      "nbconvert_exporter": "python",
      "pygments_lexer": "ipython3",
      "version": "3.7.3"
    },
    "colab": {
      "name": "JE-Forecast Analysis-Liran Ben-Zion.ipynb",
      "provenance": [],
      "collapsed_sections": []
    },
    "accelerator": "GPU"
  },
  "cells": [
    {
      "cell_type": "markdown",
      "metadata": {
        "id": "yXp0ouVfS1YC",
        "colab_type": "text"
      },
      "source": [
        "Home assignment-Liran Ben-Zion"
      ]
    },
    {
      "cell_type": "code",
      "metadata": {
        "id": "Ly93-Ij0S_tD",
        "colab_type": "code",
        "outputId": "a6d6971d-ee29-4236-8882-d9430d30c461",
        "colab": {
          "base_uri": "https://localhost:8080/",
          "height": 122
        }
      },
      "source": [
        "from google.colab import drive\n",
        "drive.mount('/content/drive')"
      ],
      "execution_count": 0,
      "outputs": [
        {
          "output_type": "stream",
          "text": [
            "Go to this URL in a browser: https://accounts.google.com/o/oauth2/auth?client_id=947318989803-6bn6qk8qdgf4n4g3pfee6491hc0brc4i.apps.googleusercontent.com&redirect_uri=urn%3aietf%3awg%3aoauth%3a2.0%3aoob&response_type=code&scope=email%20https%3a%2f%2fwww.googleapis.com%2fauth%2fdocs.test%20https%3a%2f%2fwww.googleapis.com%2fauth%2fdrive%20https%3a%2f%2fwww.googleapis.com%2fauth%2fdrive.photos.readonly%20https%3a%2f%2fwww.googleapis.com%2fauth%2fpeopleapi.readonly\n",
            "\n",
            "Enter your authorization code:\n",
            "··········\n",
            "Mounted at /content/drive\n"
          ],
          "name": "stdout"
        }
      ]
    },
    {
      "cell_type": "code",
      "metadata": {
        "id": "syBQZxD1S1YG",
        "colab_type": "code",
        "colab": {}
      },
      "source": [
        "# data analysis and wrangling\n",
        "import pandas as pd\n",
        "import numpy as np\n",
        "import random as rnd\n",
        "\n",
        "# visualization\n",
        "import seaborn as sns\n",
        "import matplotlib.pyplot as plt\n",
        "%matplotlib inline\n"
      ],
      "execution_count": 0,
      "outputs": []
    },
    {
      "cell_type": "code",
      "metadata": {
        "id": "8UMFYN81S1YO",
        "colab_type": "code",
        "colab": {}
      },
      "source": [
        "#load data\n",
        "wind_actual = pd.read_csv('/content/drive/My Drive/JE/wind_actual_generation.csv', parse_dates=True)\n",
        "wind_actual.columns = ['Date', 'forecast']\n",
        "wind_actual.index.names = ['Date']\n",
        "\n",
        "\n",
        "wind_forecast = pd.read_csv('/content/drive/My Drive/JE/wind_forecast.csv', parse_dates=True)\n",
        "wind_forecast.columns = ['Date','ecm', 'mda']\n",
        "wind_forecast.index.names = ['Date']"
      ],
      "execution_count": 0,
      "outputs": []
    },
    {
      "cell_type": "code",
      "metadata": {
        "id": "n23e_RRSS1YX",
        "colab_type": "code",
        "outputId": "f3567f8c-0883-4de4-c2d1-d6791523d5f2",
        "colab": {
          "base_uri": "https://localhost:8080/",
          "height": 289
        }
      },
      "source": [
        "#organize\n",
        "wind_actual['Date'] = pd.to_datetime(wind_actual['Date'],utc=True)\n",
        "wind_forecast['Date'] = pd.to_datetime(wind_forecast['Date'], utc=True)\n",
        "wind_actual.info()\n",
        "print('_'*40)\n",
        "wind_forecast.info()"
      ],
      "execution_count": 0,
      "outputs": [
        {
          "output_type": "stream",
          "text": [
            "<class 'pandas.core.frame.DataFrame'>\n",
            "RangeIndex: 630522 entries, 0 to 630521\n",
            "Data columns (total 2 columns):\n",
            "Date        630522 non-null datetime64[ns, UTC]\n",
            "forecast    630522 non-null float64\n",
            "dtypes: datetime64[ns, UTC](1), float64(1)\n",
            "memory usage: 9.6 MB\n",
            "________________________________________\n",
            "<class 'pandas.core.frame.DataFrame'>\n",
            "RangeIndex: 59323 entries, 0 to 59322\n",
            "Data columns (total 3 columns):\n",
            "Date    59323 non-null datetime64[ns, UTC]\n",
            "ecm     59322 non-null float64\n",
            "mda     58559 non-null float64\n",
            "dtypes: datetime64[ns, UTC](1), float64(2)\n",
            "memory usage: 1.4 MB\n"
          ],
          "name": "stdout"
        }
      ]
    },
    {
      "cell_type": "code",
      "metadata": {
        "id": "IZxUjgPCS1Yf",
        "colab_type": "code",
        "outputId": "6ade1083-e935-4499-c64f-61706c909ded",
        "colab": {
          "base_uri": "https://localhost:8080/",
          "height": 51
        }
      },
      "source": [
        "print(wind_actual.columns.values)\n",
        "print(wind_forecast.columns.values)"
      ],
      "execution_count": 0,
      "outputs": [
        {
          "output_type": "stream",
          "text": [
            "['Date' 'forecast' 'year' 'month' 'day' 'hour' 'minute' 'Weekday']\n",
            "['Date' 'ecm' 'mda']\n"
          ],
          "name": "stdout"
        }
      ]
    },
    {
      "cell_type": "code",
      "metadata": {
        "id": "xwMGcLbwS1Yl",
        "colab_type": "code",
        "outputId": "1b880be6-ee20-4728-e903-d8f823338219",
        "colab": {
          "base_uri": "https://localhost:8080/",
          "height": 235
        }
      },
      "source": [
        "wind_actual.head()"
      ],
      "execution_count": 0,
      "outputs": [
        {
          "output_type": "execute_result",
          "data": {
            "text/html": [
              "<div>\n",
              "<style scoped>\n",
              "    .dataframe tbody tr th:only-of-type {\n",
              "        vertical-align: middle;\n",
              "    }\n",
              "\n",
              "    .dataframe tbody tr th {\n",
              "        vertical-align: top;\n",
              "    }\n",
              "\n",
              "    .dataframe thead th {\n",
              "        text-align: right;\n",
              "    }\n",
              "</style>\n",
              "<table border=\"1\" class=\"dataframe\">\n",
              "  <thead>\n",
              "    <tr style=\"text-align: right;\">\n",
              "      <th></th>\n",
              "      <th>Date</th>\n",
              "      <th>forecast</th>\n",
              "    </tr>\n",
              "    <tr>\n",
              "      <th>Date</th>\n",
              "      <th></th>\n",
              "      <th></th>\n",
              "    </tr>\n",
              "  </thead>\n",
              "  <tbody>\n",
              "    <tr>\n",
              "      <th>0</th>\n",
              "      <td>2013-09-08 04:00:00+00:00</td>\n",
              "      <td>2680.85</td>\n",
              "    </tr>\n",
              "    <tr>\n",
              "      <th>1</th>\n",
              "      <td>2013-09-08 04:05:00+00:00</td>\n",
              "      <td>2738.27</td>\n",
              "    </tr>\n",
              "    <tr>\n",
              "      <th>2</th>\n",
              "      <td>2013-09-08 04:10:00+00:00</td>\n",
              "      <td>2811.47</td>\n",
              "    </tr>\n",
              "    <tr>\n",
              "      <th>3</th>\n",
              "      <td>2013-09-08 04:15:00+00:00</td>\n",
              "      <td>2967.41</td>\n",
              "    </tr>\n",
              "    <tr>\n",
              "      <th>4</th>\n",
              "      <td>2013-09-08 04:20:00+00:00</td>\n",
              "      <td>3115.29</td>\n",
              "    </tr>\n",
              "  </tbody>\n",
              "</table>\n",
              "</div>"
            ],
            "text/plain": [
              "                          Date  forecast\n",
              "Date                                    \n",
              "0    2013-09-08 04:00:00+00:00   2680.85\n",
              "1    2013-09-08 04:05:00+00:00   2738.27\n",
              "2    2013-09-08 04:10:00+00:00   2811.47\n",
              "3    2013-09-08 04:15:00+00:00   2967.41\n",
              "4    2013-09-08 04:20:00+00:00   3115.29"
            ]
          },
          "metadata": {
            "tags": []
          },
          "execution_count": 5
        }
      ]
    },
    {
      "cell_type": "code",
      "metadata": {
        "id": "_KDQBaUqS1Yp",
        "colab_type": "code",
        "outputId": "1aac7aea-d8ca-4e50-a945-dcae5142e741",
        "colab": {
          "base_uri": "https://localhost:8080/",
          "height": 235
        }
      },
      "source": [
        "wind_forecast.head()"
      ],
      "execution_count": 0,
      "outputs": [
        {
          "output_type": "execute_result",
          "data": {
            "text/html": [
              "<div>\n",
              "<style scoped>\n",
              "    .dataframe tbody tr th:only-of-type {\n",
              "        vertical-align: middle;\n",
              "    }\n",
              "\n",
              "    .dataframe tbody tr th {\n",
              "        vertical-align: top;\n",
              "    }\n",
              "\n",
              "    .dataframe thead th {\n",
              "        text-align: right;\n",
              "    }\n",
              "</style>\n",
              "<table border=\"1\" class=\"dataframe\">\n",
              "  <thead>\n",
              "    <tr style=\"text-align: right;\">\n",
              "      <th></th>\n",
              "      <th>Date</th>\n",
              "      <th>ecm</th>\n",
              "      <th>mda</th>\n",
              "    </tr>\n",
              "    <tr>\n",
              "      <th>Date</th>\n",
              "      <th></th>\n",
              "      <th></th>\n",
              "      <th></th>\n",
              "    </tr>\n",
              "  </thead>\n",
              "  <tbody>\n",
              "    <tr>\n",
              "      <th>0</th>\n",
              "      <td>2013-01-02 07:00:00+00:00</td>\n",
              "      <td>1733.0</td>\n",
              "      <td>2039.6</td>\n",
              "    </tr>\n",
              "    <tr>\n",
              "      <th>1</th>\n",
              "      <td>2013-01-02 08:00:00+00:00</td>\n",
              "      <td>1780.9</td>\n",
              "      <td>2137.3</td>\n",
              "    </tr>\n",
              "    <tr>\n",
              "      <th>2</th>\n",
              "      <td>2013-01-02 09:00:00+00:00</td>\n",
              "      <td>1739.6</td>\n",
              "      <td>2090.2</td>\n",
              "    </tr>\n",
              "    <tr>\n",
              "      <th>3</th>\n",
              "      <td>2013-01-02 10:00:00+00:00</td>\n",
              "      <td>1738.8</td>\n",
              "      <td>2169.3</td>\n",
              "    </tr>\n",
              "    <tr>\n",
              "      <th>4</th>\n",
              "      <td>2013-01-02 11:00:00+00:00</td>\n",
              "      <td>1552.3</td>\n",
              "      <td>2163.4</td>\n",
              "    </tr>\n",
              "  </tbody>\n",
              "</table>\n",
              "</div>"
            ],
            "text/plain": [
              "                          Date     ecm     mda\n",
              "Date                                          \n",
              "0    2013-01-02 07:00:00+00:00  1733.0  2039.6\n",
              "1    2013-01-02 08:00:00+00:00  1780.9  2137.3\n",
              "2    2013-01-02 09:00:00+00:00  1739.6  2090.2\n",
              "3    2013-01-02 10:00:00+00:00  1738.8  2169.3\n",
              "4    2013-01-02 11:00:00+00:00  1552.3  2163.4"
            ]
          },
          "metadata": {
            "tags": []
          },
          "execution_count": 6
        }
      ]
    },
    {
      "cell_type": "code",
      "metadata": {
        "id": "7A9iNuOjS1Yt",
        "colab_type": "code",
        "colab": {}
      },
      "source": [
        "#create new columns\n",
        "wind_actual['year'] = pd.DatetimeIndex(wind_actual['Date']).year\n",
        "wind_actual['month'] = pd.DatetimeIndex(wind_actual['Date']).month\n",
        "wind_actual['day'] = pd.DatetimeIndex(wind_actual['Date']).day\n",
        "wind_actual['hour'] = pd.DatetimeIndex(wind_actual['Date']).hour\n",
        "wind_actual['minute'] = pd.DatetimeIndex(wind_actual['Date']).minute\n",
        "wind_actual['Weekday'] = pd.DatetimeIndex(wind_actual['Date']).weekday_name\n"
      ],
      "execution_count": 0,
      "outputs": []
    },
    {
      "cell_type": "code",
      "metadata": {
        "id": "9tU6D3S9S1Yx",
        "colab_type": "code",
        "outputId": "48073f64-964d-4087-aa6f-fb03b277d374",
        "colab": {
          "base_uri": "https://localhost:8080/",
          "height": 533
        }
      },
      "source": [
        "#Data Visualization\n",
        "# plot of a histogram showing the distribution of the target values\n",
        "\n",
        "sns.set(rc={'figure.figsize':(11.7,8.27)})\n",
        "sns.distplot(wind_actual['forecast'], bins=80)\n",
        "plt.xlim(xmin=0, xmax = 25000)\n",
        "plt.title(\"Histogram showing the distribution of the forecast\")\n",
        "plt.xlabel('Forecast level')\n",
        "plt.ylabel('Probability')\n",
        "plt.show()"
      ],
      "execution_count": 0,
      "outputs": [
        {
          "output_type": "display_data",
          "data": {
            "image/png": "[encoded data removed]",
            "text/plain": [
              "<Figure size 842.4x595.44 with 1 Axes>"
            ]
          },
          "metadata": {
            "tags": []
          }
        }
      ]
    },
    {
      "cell_type": "code",
      "metadata": {
        "id": "bUnRHmb6S1Y1",
        "colab_type": "code",
        "outputId": "ed4a56dd-b65c-41d2-bf79-126ddfc6a787",
        "colab": {
          "base_uri": "https://localhost:8080/",
          "height": 297
        }
      },
      "source": [
        "#What is the distribution of numerical feature values across the samples?\n",
        "wind_actual.describe()"
      ],
      "execution_count": 0,
      "outputs": [
        {
          "output_type": "execute_result",
          "data": {
            "text/html": [
              "<div>\n",
              "<style scoped>\n",
              "    .dataframe tbody tr th:only-of-type {\n",
              "        vertical-align: middle;\n",
              "    }\n",
              "\n",
              "    .dataframe tbody tr th {\n",
              "        vertical-align: top;\n",
              "    }\n",
              "\n",
              "    .dataframe thead th {\n",
              "        text-align: right;\n",
              "    }\n",
              "</style>\n",
              "<table border=\"1\" class=\"dataframe\">\n",
              "  <thead>\n",
              "    <tr style=\"text-align: right;\">\n",
              "      <th></th>\n",
              "      <th>forecast</th>\n",
              "      <th>year</th>\n",
              "      <th>month</th>\n",
              "      <th>day</th>\n",
              "      <th>hour</th>\n",
              "      <th>minute</th>\n",
              "    </tr>\n",
              "  </thead>\n",
              "  <tbody>\n",
              "    <tr>\n",
              "      <th>count</th>\n",
              "      <td>630522.000000</td>\n",
              "      <td>630522.000000</td>\n",
              "      <td>630522.000000</td>\n",
              "      <td>630522.000000</td>\n",
              "      <td>630522.000000</td>\n",
              "      <td>630522.000000</td>\n",
              "    </tr>\n",
              "    <tr>\n",
              "      <th>mean</th>\n",
              "      <td>6224.874896</td>\n",
              "      <td>2016.255244</td>\n",
              "      <td>6.534938</td>\n",
              "      <td>15.742865</td>\n",
              "      <td>11.501327</td>\n",
              "      <td>27.499794</td>\n",
              "    </tr>\n",
              "    <tr>\n",
              "      <th>std</th>\n",
              "      <td>3979.968974</td>\n",
              "      <td>1.797779</td>\n",
              "      <td>3.444397</td>\n",
              "      <td>8.787142</td>\n",
              "      <td>6.919699</td>\n",
              "      <td>17.260198</td>\n",
              "    </tr>\n",
              "    <tr>\n",
              "      <th>min</th>\n",
              "      <td>0.000000</td>\n",
              "      <td>2013.000000</td>\n",
              "      <td>1.000000</td>\n",
              "      <td>1.000000</td>\n",
              "      <td>0.000000</td>\n",
              "      <td>0.000000</td>\n",
              "    </tr>\n",
              "    <tr>\n",
              "      <th>25%</th>\n",
              "      <td>2996.822500</td>\n",
              "      <td>2015.000000</td>\n",
              "      <td>4.000000</td>\n",
              "      <td>8.000000</td>\n",
              "      <td>6.000000</td>\n",
              "      <td>15.000000</td>\n",
              "    </tr>\n",
              "    <tr>\n",
              "      <th>50%</th>\n",
              "      <td>5596.145000</td>\n",
              "      <td>2016.000000</td>\n",
              "      <td>7.000000</td>\n",
              "      <td>16.000000</td>\n",
              "      <td>12.000000</td>\n",
              "      <td>25.000000</td>\n",
              "    </tr>\n",
              "    <tr>\n",
              "      <th>75%</th>\n",
              "      <td>8846.957500</td>\n",
              "      <td>2018.000000</td>\n",
              "      <td>9.000000</td>\n",
              "      <td>23.000000</td>\n",
              "      <td>17.000000</td>\n",
              "      <td>45.000000</td>\n",
              "    </tr>\n",
              "    <tr>\n",
              "      <th>max</th>\n",
              "      <td>97944.200000</td>\n",
              "      <td>2019.000000</td>\n",
              "      <td>12.000000</td>\n",
              "      <td>31.000000</td>\n",
              "      <td>23.000000</td>\n",
              "      <td>55.000000</td>\n",
              "    </tr>\n",
              "  </tbody>\n",
              "</table>\n",
              "</div>"
            ],
            "text/plain": [
              "            forecast           year  ...           hour         minute\n",
              "count  630522.000000  630522.000000  ...  630522.000000  630522.000000\n",
              "mean     6224.874896    2016.255244  ...      11.501327      27.499794\n",
              "std      3979.968974       1.797779  ...       6.919699      17.260198\n",
              "min         0.000000    2013.000000  ...       0.000000       0.000000\n",
              "25%      2996.822500    2015.000000  ...       6.000000      15.000000\n",
              "50%      5596.145000    2016.000000  ...      12.000000      25.000000\n",
              "75%      8846.957500    2018.000000  ...      17.000000      45.000000\n",
              "max     97944.200000    2019.000000  ...      23.000000      55.000000\n",
              "\n",
              "[8 rows x 6 columns]"
            ]
          },
          "metadata": {
            "tags": []
          },
          "execution_count": 9
        }
      ]
    },
    {
      "cell_type": "code",
      "metadata": {
        "id": "SaxSSdHIS1Y6",
        "colab_type": "code",
        "outputId": "d24e619d-0fb2-47d2-9d0b-e466889f9b34",
        "colab": {
          "base_uri": "https://localhost:8080/",
          "height": 533
        }
      },
      "source": [
        "plt.boxplot(wind_actual[\"forecast\"])\n",
        "plt.title(\"Forecast Boxplot\")"
      ],
      "execution_count": 0,
      "outputs": [
        {
          "output_type": "execute_result",
          "data": {
            "text/plain": [
              "Text(0.5, 1.0, 'Forecast Boxplot')"
            ]
          },
          "metadata": {
            "tags": []
          },
          "execution_count": 10
        },
        {
          "output_type": "display_data",
          "data": {
            "image/png": "[encoded data removed]",
            "text/plain": [
              "<Figure size 842.4x595.44 with 1 Axes>"
            ]
          },
          "metadata": {
            "tags": []
          }
        }
      ]
    },
    {
      "cell_type": "code",
      "metadata": {
        "id": "LOk3UnYdS1Y-",
        "colab_type": "code",
        "colab": {}
      },
      "source": [
        "trans_wind_actual=wind_actual"
      ],
      "execution_count": 0,
      "outputs": []
    },
    {
      "cell_type": "code",
      "metadata": {
        "id": "kuN5xKorS1ZC",
        "colab_type": "code",
        "outputId": "5444e523-1e8e-45ec-d75d-9c8d955b934e",
        "colab": {
          "base_uri": "https://localhost:8080/",
          "height": 533
        }
      },
      "source": [
        "trans_wind_actual[\"forecast\"].apply(np.log)\n",
        "sns.set(rc={'figure.figsize':(11.7,8.27)})\n",
        "sns.distplot(trans_wind_actual['forecast'], bins=80)\n",
        "plt.xlim(xmin=0, xmax = 25000)\n",
        "plt.title(\"Histogram showing the distribution of the log forecast\")\n",
        "plt.xlabel('log Forecast level')\n",
        "plt.ylabel('Probability')\n",
        "plt.show()"
      ],
      "execution_count": 0,
      "outputs": [
        {
          "output_type": "display_data",
          "data": {
            "image/png": "[encoded data removed]",
            "text/plain": [
              "<Figure size 842.4x595.44 with 1 Axes>"
            ]
          },
          "metadata": {
            "tags": []
          }
        }
      ]
    },
    {
      "cell_type": "code",
      "metadata": {
        "id": "Wcc95GMNS1ZH",
        "colab_type": "code",
        "outputId": "4f694a50-8610-49d4-c83a-6d5020b7c3bd",
        "colab": {
          "base_uri": "https://localhost:8080/",
          "height": 231
        }
      },
      "source": [
        "series = pd.read_csv('/content/drive/My Drive/JE/wind_actual_generation.csv', header=0, index_col=0, parse_dates=True, squeeze=True)\n",
        "series.plot(style='k.')\n",
        "plt.title(\"Plot of Forecast By Years\")\n",
        "plt.xlabel('Year')\n",
        "plt.ylabel('Forecast')\n"
      ],
      "execution_count": 0,
      "outputs": [
        {
          "output_type": "error",
          "ename": "NameError",
          "evalue": "ignored",
          "traceback": [
            "\u001b[0;31m---------------------------------------------------------------------------\u001b[0m",
            "\u001b[0;31mNameError\u001b[0m                                 Traceback (most recent call last)",
            "\u001b[0;32m<ipython-input-6-b49b61eb3119>\u001b[0m in \u001b[0;36m<module>\u001b[0;34m()\u001b[0m\n\u001b[0;32m----> 1\u001b[0;31m \u001b[0mseries\u001b[0m \u001b[0;34m=\u001b[0m \u001b[0mpd\u001b[0m\u001b[0;34m.\u001b[0m\u001b[0mread_csv\u001b[0m\u001b[0;34m(\u001b[0m\u001b[0;34m'/content/drive/My Drive/JE/wind_actual_generation.csv'\u001b[0m\u001b[0;34m,\u001b[0m \u001b[0mheader\u001b[0m\u001b[0;34m=\u001b[0m\u001b[0;36m0\u001b[0m\u001b[0;34m,\u001b[0m \u001b[0mindex_col\u001b[0m\u001b[0;34m=\u001b[0m\u001b[0;36m0\u001b[0m\u001b[0;34m,\u001b[0m \u001b[0mparse_dates\u001b[0m\u001b[0;34m=\u001b[0m\u001b[0;32mTrue\u001b[0m\u001b[0;34m,\u001b[0m \u001b[0msqueeze\u001b[0m\u001b[0;34m=\u001b[0m\u001b[0;32mTrue\u001b[0m\u001b[0;34m)\u001b[0m\u001b[0;34m\u001b[0m\u001b[0;34m\u001b[0m\u001b[0m\n\u001b[0m\u001b[1;32m      2\u001b[0m \u001b[0mseries\u001b[0m\u001b[0;34m.\u001b[0m\u001b[0mplot\u001b[0m\u001b[0;34m(\u001b[0m\u001b[0mstyle\u001b[0m\u001b[0;34m=\u001b[0m\u001b[0;34m'k.'\u001b[0m\u001b[0;34m)\u001b[0m\u001b[0;34m\u001b[0m\u001b[0;34m\u001b[0m\u001b[0m\n\u001b[1;32m      3\u001b[0m \u001b[0mplt\u001b[0m\u001b[0;34m.\u001b[0m\u001b[0mtitle\u001b[0m\u001b[0;34m(\u001b[0m\u001b[0;34m\"Plot of Forecast By Years\"\u001b[0m\u001b[0;34m)\u001b[0m\u001b[0;34m\u001b[0m\u001b[0;34m\u001b[0m\u001b[0m\n\u001b[1;32m      4\u001b[0m \u001b[0mplt\u001b[0m\u001b[0;34m.\u001b[0m\u001b[0mxlabel\u001b[0m\u001b[0;34m(\u001b[0m\u001b[0;34m'Year'\u001b[0m\u001b[0;34m)\u001b[0m\u001b[0;34m\u001b[0m\u001b[0;34m\u001b[0m\u001b[0m\n\u001b[1;32m      5\u001b[0m \u001b[0mplt\u001b[0m\u001b[0;34m.\u001b[0m\u001b[0mylabel\u001b[0m\u001b[0;34m(\u001b[0m\u001b[0;34m'Forecast'\u001b[0m\u001b[0;34m)\u001b[0m\u001b[0;34m\u001b[0m\u001b[0;34m\u001b[0m\u001b[0m\n",
            "\u001b[0;31mNameError\u001b[0m: name 'pd' is not defined"
          ]
        }
      ]
    },
    {
      "cell_type": "code",
      "metadata": {
        "id": "4Rz4YzIzS1ZL",
        "colab_type": "code",
        "outputId": "70e40215-a2ee-4510-825e-275d5f49e28e",
        "colab": {
          "base_uri": "https://localhost:8080/",
          "height": 235
        }
      },
      "source": [
        "data = pd.read_csv('/content/drive/My Drive/JE/wind_forecast.csv', index_col='ts', parse_dates=True)\n",
        "data.index.names = ['Date']\n",
        "data.head()"
      ],
      "execution_count": 0,
      "outputs": [
        {
          "output_type": "execute_result",
          "data": {
            "text/html": [
              "<div>\n",
              "<style scoped>\n",
              "    .dataframe tbody tr th:only-of-type {\n",
              "        vertical-align: middle;\n",
              "    }\n",
              "\n",
              "    .dataframe tbody tr th {\n",
              "        vertical-align: top;\n",
              "    }\n",
              "\n",
              "    .dataframe thead th {\n",
              "        text-align: right;\n",
              "    }\n",
              "</style>\n",
              "<table border=\"1\" class=\"dataframe\">\n",
              "  <thead>\n",
              "    <tr style=\"text-align: right;\">\n",
              "      <th></th>\n",
              "      <th>ecm</th>\n",
              "      <th>mda</th>\n",
              "    </tr>\n",
              "    <tr>\n",
              "      <th>Date</th>\n",
              "      <th></th>\n",
              "      <th></th>\n",
              "    </tr>\n",
              "  </thead>\n",
              "  <tbody>\n",
              "    <tr>\n",
              "      <th>2013-01-02 01:00:00-06:00</th>\n",
              "      <td>1733.0</td>\n",
              "      <td>2039.6</td>\n",
              "    </tr>\n",
              "    <tr>\n",
              "      <th>2013-01-02 02:00:00-06:00</th>\n",
              "      <td>1780.9</td>\n",
              "      <td>2137.3</td>\n",
              "    </tr>\n",
              "    <tr>\n",
              "      <th>2013-01-02 03:00:00-06:00</th>\n",
              "      <td>1739.6</td>\n",
              "      <td>2090.2</td>\n",
              "    </tr>\n",
              "    <tr>\n",
              "      <th>2013-01-02 04:00:00-06:00</th>\n",
              "      <td>1738.8</td>\n",
              "      <td>2169.3</td>\n",
              "    </tr>\n",
              "    <tr>\n",
              "      <th>2013-01-02 05:00:00-06:00</th>\n",
              "      <td>1552.3</td>\n",
              "      <td>2163.4</td>\n",
              "    </tr>\n",
              "  </tbody>\n",
              "</table>\n",
              "</div>"
            ],
            "text/plain": [
              "                              ecm     mda\n",
              "Date                                     \n",
              "2013-01-02 01:00:00-06:00  1733.0  2039.6\n",
              "2013-01-02 02:00:00-06:00  1780.9  2137.3\n",
              "2013-01-02 03:00:00-06:00  1739.6  2090.2\n",
              "2013-01-02 04:00:00-06:00  1738.8  2169.3\n",
              "2013-01-02 05:00:00-06:00  1552.3  2163.4"
            ]
          },
          "metadata": {
            "tags": []
          },
          "execution_count": 18
        }
      ]
    },
    {
      "cell_type": "code",
      "metadata": {
        "id": "qkF5TYmIS1ZP",
        "colab_type": "code",
        "colab": {}
      },
      "source": [
        "data.columns = ['ecm', 'mda']"
      ],
      "execution_count": 0,
      "outputs": []
    },
    {
      "cell_type": "code",
      "metadata": {
        "id": "UYoa2eARS1ZT",
        "colab_type": "code",
        "colab": {}
      },
      "source": [
        "data.index = pd.to_datetime(data.index, utc=True)"
      ],
      "execution_count": 0,
      "outputs": []
    },
    {
      "cell_type": "code",
      "metadata": {
        "id": "QNmkVnOrS1ZY",
        "colab_type": "code",
        "outputId": "d379d813-339f-42da-cea9-e5e742bad5a3",
        "colab": {
          "base_uri": "https://localhost:8080/",
          "height": 297
        }
      },
      "source": [
        "data.dropna().describe()"
      ],
      "execution_count": 0,
      "outputs": [
        {
          "output_type": "execute_result",
          "data": {
            "text/html": [
              "<div>\n",
              "<style scoped>\n",
              "    .dataframe tbody tr th:only-of-type {\n",
              "        vertical-align: middle;\n",
              "    }\n",
              "\n",
              "    .dataframe tbody tr th {\n",
              "        vertical-align: top;\n",
              "    }\n",
              "\n",
              "    .dataframe thead th {\n",
              "        text-align: right;\n",
              "    }\n",
              "</style>\n",
              "<table border=\"1\" class=\"dataframe\">\n",
              "  <thead>\n",
              "    <tr style=\"text-align: right;\">\n",
              "      <th></th>\n",
              "      <th>ecm</th>\n",
              "      <th>mda</th>\n",
              "    </tr>\n",
              "  </thead>\n",
              "  <tbody>\n",
              "    <tr>\n",
              "      <th>count</th>\n",
              "      <td>58559.000000</td>\n",
              "      <td>58559.000000</td>\n",
              "    </tr>\n",
              "    <tr>\n",
              "      <th>mean</th>\n",
              "      <td>5993.608287</td>\n",
              "      <td>5992.330714</td>\n",
              "    </tr>\n",
              "    <tr>\n",
              "      <th>std</th>\n",
              "      <td>3754.883680</td>\n",
              "      <td>3552.918700</td>\n",
              "    </tr>\n",
              "    <tr>\n",
              "      <th>min</th>\n",
              "      <td>0.000000</td>\n",
              "      <td>0.000000</td>\n",
              "    </tr>\n",
              "    <tr>\n",
              "      <th>25%</th>\n",
              "      <td>3077.150000</td>\n",
              "      <td>3206.500000</td>\n",
              "    </tr>\n",
              "    <tr>\n",
              "      <th>50%</th>\n",
              "      <td>5375.000000</td>\n",
              "      <td>5356.000000</td>\n",
              "    </tr>\n",
              "    <tr>\n",
              "      <th>75%</th>\n",
              "      <td>8204.250000</td>\n",
              "      <td>8059.050000</td>\n",
              "    </tr>\n",
              "    <tr>\n",
              "      <th>max</th>\n",
              "      <td>20350.000000</td>\n",
              "      <td>19587.000000</td>\n",
              "    </tr>\n",
              "  </tbody>\n",
              "</table>\n",
              "</div>"
            ],
            "text/plain": [
              "                ecm           mda\n",
              "count  58559.000000  58559.000000\n",
              "mean    5993.608287   5992.330714\n",
              "std     3754.883680   3552.918700\n",
              "min        0.000000      0.000000\n",
              "25%     3077.150000   3206.500000\n",
              "50%     5375.000000   5356.000000\n",
              "75%     8204.250000   8059.050000\n",
              "max    20350.000000  19587.000000"
            ]
          },
          "metadata": {
            "tags": []
          },
          "execution_count": 21
        }
      ]
    },
    {
      "cell_type": "code",
      "metadata": {
        "id": "nxydo8HLS1Zc",
        "colab_type": "code",
        "outputId": "aa9a1281-cdd6-4fc2-e887-e7e4fa412ddd",
        "colab": {
          "base_uri": "https://localhost:8080/",
          "height": 518
        }
      },
      "source": [
        "data.plot()\n",
        "plt.title(\"Plot of ecm vs mda\")\n",
        "plt.xlabel('Year')\n",
        "plt.ylabel('Forecast')"
      ],
      "execution_count": 0,
      "outputs": [
        {
          "output_type": "execute_result",
          "data": {
            "text/plain": [
              "Text(0, 0.5, 'Forecast')"
            ]
          },
          "metadata": {
            "tags": []
          },
          "execution_count": 22
        },
        {
          "output_type": "display_data",
          "data": {
            "image/png": "[encoded data removed]",
            "text/plain": [
              "<Figure size 842.4x595.44 with 1 Axes>"
            ]
          },
          "metadata": {
            "tags": []
          }
        }
      ]
    },
    {
      "cell_type": "code",
      "metadata": {
        "id": "qvU542vwS1Zf",
        "colab_type": "code",
        "colab": {}
      },
      "source": [
        "%matplotlib inline\n",
        "import seaborn; seaborn.set()\n",
        "\n",
        "weekly = data.resample('W').mean()\n",
        "weekly.plot(style=[':', '--'])\n",
        "plt.title(\"Weekly forecast- mean\")\n",
        "plt.xlabel('Year')\n",
        "plt.ylabel('Mean Forecast')"
      ],
      "execution_count": 0,
      "outputs": []
    },
    {
      "cell_type": "code",
      "metadata": {
        "id": "FEZVb0IQS1Zi",
        "colab_type": "code",
        "colab": {}
      },
      "source": [
        "monthly = data.resample('M').mean()\n",
        "monthly.plot(style=[':', '--'])\n",
        "plt.title(\"Monthly forecast- mean\")\n",
        "plt.xlabel('Year')\n",
        "plt.ylabel('Mean Forecast')"
      ],
      "execution_count": 0,
      "outputs": []
    },
    {
      "cell_type": "code",
      "metadata": {
        "id": "VvWPwwLKS1Zm",
        "colab_type": "code",
        "colab": {}
      },
      "source": [
        "by_time = data.groupby(data.index.time).mean()\n",
        "hourly_ticks = 4 * 60 * 60 * np.arange(6)\n",
        "by_time.plot(xticks=hourly_ticks, style=[':', '--']);\n",
        "plt.title(\"Hourly forecast- mean\")\n",
        "plt.xlabel('Time')\n",
        "plt.ylabel('Mean Forecast')"
      ],
      "execution_count": 0,
      "outputs": []
    },
    {
      "cell_type": "code",
      "metadata": {
        "id": "a8kF4C8gS1Zr",
        "colab_type": "code",
        "colab": {}
      },
      "source": [
        "by_weekday = data.groupby(data.index.dayofweek).mean()\n",
        "by_weekday.index = ['Mon', 'Tues', 'Wed', 'Thurs', 'Fri', 'Sat', 'Sun']\n",
        "by_weekday.plot(style=[':', '--']);\n",
        "plt.title(\"Daily forecast- mean\")\n",
        "plt.xlabel('Day of the week')\n",
        "plt.ylabel('Mean Forecast')"
      ],
      "execution_count": 0,
      "outputs": []
    },
    {
      "cell_type": "code",
      "metadata": {
        "id": "VhiciIn1S1Zv",
        "colab_type": "code",
        "colab": {}
      },
      "source": [
        "wind_actual = pd.read_csv('C:/Users/bzlir/Desktop/DataAnalystAssignment/wind_actual_generation.csv', parse_dates=True)\n",
        "wind_actual.columns = ['Date', 'forecast']\n",
        "wind_actual.shape"
      ],
      "execution_count": 0,
      "outputs": []
    },
    {
      "cell_type": "code",
      "metadata": {
        "id": "yv7VYARGS1Zx",
        "colab_type": "code",
        "outputId": "d1ddcbd3-1b6b-4434-a325-02cc82f1285b",
        "colab": {
          "base_uri": "https://localhost:8080/",
          "height": 153
        }
      },
      "source": [
        "wind_actual['Date']= pd.to_datetime(wind_actual['Date'], utc=False)\n",
        "wind_actual = wind_actual.set_index('Date')\n",
        "wind_actual.dtypes"
      ],
      "execution_count": 0,
      "outputs": [
        {
          "output_type": "execute_result",
          "data": {
            "text/plain": [
              "forecast    float64\n",
              "year          int64\n",
              "month         int64\n",
              "day           int64\n",
              "hour          int64\n",
              "minute        int64\n",
              "Weekday      object\n",
              "dtype: object"
            ]
          },
          "metadata": {
            "tags": []
          },
          "execution_count": 23
        }
      ]
    },
    {
      "cell_type": "code",
      "metadata": {
        "id": "tgiyPbw-S1Z0",
        "colab_type": "code",
        "colab": {}
      },
      "source": [
        "\n",
        "wind_actual['year'] = wind_actual.index.year\n",
        "wind_actual['month'] = wind_actual.index.month\n",
        "wind_actual['day'] = wind_actual.index.day\n",
        "wind_actual['hour'] = wind_actual.index.hour\n",
        "wind_actual['minute'] = wind_actual.index.minute\n",
        "wind_actual['Weekday'] = wind_actual.index.weekday_name\n"
      ],
      "execution_count": 0,
      "outputs": []
    },
    {
      "cell_type": "code",
      "metadata": {
        "id": "HY2oCfEKS1Z2",
        "colab_type": "code",
        "colab": {}
      },
      "source": [
        "wind_actual.head(3)"
      ],
      "execution_count": 0,
      "outputs": []
    },
    {
      "cell_type": "code",
      "metadata": {
        "id": "aRpkxUvrS1Z5",
        "colab_type": "code",
        "colab": {}
      },
      "source": [
        "sns.set(rc={'figure.figsize':(11, 4)})\n",
        "wind_actual['forecast'].plot(linewidth=0.5);"
      ],
      "execution_count": 0,
      "outputs": []
    },
    {
      "cell_type": "code",
      "metadata": {
        "id": "v1_CAs0IS1Z8",
        "colab_type": "code",
        "colab": {}
      },
      "source": [
        "cols_plot = ['forecast']\n",
        "axes = opsd_daily[cols_plot].plot(marker='.', alpha=0.5, linestyle='None', figsize=(11, 9), subplots=True)\n",
        "for ax in axes:\n",
        "    ax.set_ylabel('Daily Forecast')"
      ],
      "execution_count": 0,
      "outputs": []
    },
    {
      "cell_type": "code",
      "metadata": {
        "id": "xah32i4gS1Z-",
        "colab_type": "code",
        "colab": {}
      },
      "source": [
        "wind_forecast.head()\n"
      ],
      "execution_count": 0,
      "outputs": []
    },
    {
      "cell_type": "code",
      "metadata": {
        "id": "V0DpcM0YS1aC",
        "colab_type": "code",
        "colab": {}
      },
      "source": [
        "wind_actual = pd.read_csv('C:/Users/bzlir/Desktop/DataAnalystAssignment/wind_actual_generation.csv', parse_dates=True)\n",
        "wind_actual.columns = ['Date', 'forecast']\n",
        "\n",
        "\n",
        "wind_forecast = pd.read_csv('C:/Users/bzlir/Desktop/DataAnalystAssignment/wind_forecast.csv', parse_dates=True)\n",
        "#wind_forecast.index.names = ['Date']\n",
        "wind_forecast.columns = ['Date','ecm', 'mda']\n"
      ],
      "execution_count": 0,
      "outputs": []
    },
    {
      "cell_type": "code",
      "metadata": {
        "id": "cd569ULNS1aH",
        "colab_type": "code",
        "colab": {}
      },
      "source": [
        "wind_actual.head()"
      ],
      "execution_count": 0,
      "outputs": []
    },
    {
      "cell_type": "code",
      "metadata": {
        "id": "Gb15Jjw0S1aJ",
        "colab_type": "code",
        "colab": {}
      },
      "source": [
        "wind_actual.dtypes"
      ],
      "execution_count": 0,
      "outputs": []
    },
    {
      "cell_type": "code",
      "metadata": {
        "id": "_iWUKYNgS1aM",
        "colab_type": "code",
        "colab": {}
      },
      "source": [
        "wind_forecast.head()"
      ],
      "execution_count": 0,
      "outputs": []
    },
    {
      "cell_type": "code",
      "metadata": {
        "id": "W77kD5o_S1aO",
        "colab_type": "code",
        "colab": {}
      },
      "source": [
        "df1=wind_forecast\n",
        "df2=wind_actual\n",
        "output=pd.merge(df1,df2, how='inner')\n",
        "output.dropna().describe()"
      ],
      "execution_count": 0,
      "outputs": []
    },
    {
      "cell_type": "code",
      "metadata": {
        "id": "XDbG_ATRS1aQ",
        "colab_type": "code",
        "colab": {}
      },
      "source": [
        "output.head()"
      ],
      "execution_count": 0,
      "outputs": []
    },
    {
      "cell_type": "code",
      "metadata": {
        "id": "MprYeslES1aS",
        "colab_type": "code",
        "colab": {}
      },
      "source": [
        "output['error1'] = output['ecm'] - output['forecast']\n",
        "output['error2'] = output['mda'] - output['forecast']\n",
        "output.head()"
      ],
      "execution_count": 0,
      "outputs": []
    },
    {
      "cell_type": "code",
      "metadata": {
        "id": "8ZiLQKSrS1aU",
        "colab_type": "code",
        "colab": {}
      },
      "source": [
        "x = output['error1']\n",
        "plt.hist(x, bins =100)\n",
        "plt.title(\"error1 histogram\")\n",
        "plt.xlabel('bin')\n",
        "plt.ylabel('error size')"
      ],
      "execution_count": 0,
      "outputs": []
    },
    {
      "cell_type": "code",
      "metadata": {
        "id": "SBcvUoP6S1aY",
        "colab_type": "code",
        "colab": {}
      },
      "source": [
        "x = output['error2']\n",
        "plt.hist(x, bins =100)\n",
        "plt.title(\"error2 histogram\")\n",
        "plt.xlabel('bin')\n",
        "plt.ylabel('error size')"
      ],
      "execution_count": 0,
      "outputs": []
    },
    {
      "cell_type": "code",
      "metadata": {
        "id": "RZWULXbWS1aa",
        "colab_type": "code",
        "colab": {}
      },
      "source": [
        "from sklearn.metrics import mean_squared_error \n",
        "from sklearn.metrics import mean_absolute_error\n",
        "np.nan_to_num(output['forecast']) \n",
        "np.nan_to_num(output['ecm']) \n",
        "np.nan_to_num(output['mda']) \n",
        "output['forecast'].astype(np.int64)\n",
        "output['ecm'].astype(np.int64)\n",
        "output['mda'].astype(np.int64)\n",
        "MSE_error_1=mean_absolute_error(output['mda'] , output['forecast'])"
      ],
      "execution_count": 0,
      "outputs": []
    }
  ]
}